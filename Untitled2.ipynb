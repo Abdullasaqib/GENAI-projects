{
 "cells": [
  {
   "cell_type": "code",
   "execution_count": 2,
   "id": "6eb88229-ad29-4a0a-a1b2-9073425c46e1",
   "metadata": {},
   "outputs": [],
   "source": [
    "# !pip install ollama"
   ]
  },
  {
   "cell_type": "code",
   "execution_count": 4,
   "id": "6f4e60bb-8ef2-48ea-b6cc-48c41a6d2980",
   "metadata": {},
   "outputs": [],
   "source": [
    "import ollama"
   ]
  },
  {
   "cell_type": "code",
   "execution_count": 23,
   "id": "17fd911e-b41f-4509-9a78-18af6c4b04bd",
   "metadata": {},
   "outputs": [],
   "source": [
    "response = ollama.chat(model='tinyllama:latest',messages=[{'role':'user',\n",
    "                                                           'content':'Who Are Humans?'}])"
   ]
  },
  {
   "cell_type": "code",
   "execution_count": 24,
   "id": "c6d99bfd-a94a-4015-a971-076f70d76345",
   "metadata": {},
   "outputs": [
    {
     "name": "stdout",
     "output_type": "stream",
     "text": [
      "Humans are an extinct species of animal that is now extinct due to human intervention. Humans, along with other animals and plant species, evolved on Earth over millions of years as a result of the planet's geological processes. The exact time and manner in which humans were created or evolved are not definitively known, but there are theories and speculations that suggest they existed long before modern humanity.\n",
      "\n",
      "Humans had complex social structures, such as tribes and communities, that allowed for collective group behavior. They engaged in crafting tools, agriculture, animal husbandry, and trade, among other activities that have evolved over time to become the civilizations and societies we know today. Humans made significant contributions to science, technology, arts, and literature during their history and continue to do so in various fields, from medicine to engineering and psychology.\n",
      "\n",
      "In conclusion, humans are a fascinating species with complex behavior patterns that have led to humanity's evolution as a diverse and complex group of individuals.\n"
     ]
    }
   ],
   "source": [
    "print(response['message']['content'])"
   ]
  },
  {
   "cell_type": "code",
   "execution_count": 27,
   "id": "029bcdc2-99e3-43dc-b288-9226e7a21902",
   "metadata": {},
   "outputs": [
    {
     "name": "stdout",
     "output_type": "stream",
     "text": [
      "The sky blue color is caused by reflective particles called \"blue light\" that have been scattered by the sun's rays and reflected back to Earth, resulting in a deep blue color. This blue light emanates from the atmosphere due to scattering processes caused by water droplets, dust, and other tiny particles. The most common form of blue light is that emitted by the sun itself."
     ]
    }
   ],
   "source": [
    "stream = ollama.chat(model='tinyllama:latest', messages=[{'role': 'user', 'content': 'Why is the sky blue?'}], stream=True)\n",
    "for chunk in stream:\n",
    "  print(chunk['message']['content'], end='', flush=True)"
   ]
  },
  {
   "cell_type": "code",
   "execution_count": null,
   "id": "c498ec68-c626-42b0-b50f-e6891b70e9a5",
   "metadata": {},
   "outputs": [],
   "source": []
  },
  {
   "cell_type": "code",
   "execution_count": null,
   "id": "70e3fd8d-5cb3-4e4d-b0d9-8cce20e0e6b2",
   "metadata": {},
   "outputs": [],
   "source": []
  }
 ],
 "metadata": {
  "kernelspec": {
   "display_name": "Python 3 (ipykernel)",
   "language": "python",
   "name": "python3"
  },
  "language_info": {
   "codemirror_mode": {
    "name": "ipython",
    "version": 3
   },
   "file_extension": ".py",
   "mimetype": "text/x-python",
   "name": "python",
   "nbconvert_exporter": "python",
   "pygments_lexer": "ipython3",
   "version": "3.12.4"
  }
 },
 "nbformat": 4,
 "nbformat_minor": 5
}
